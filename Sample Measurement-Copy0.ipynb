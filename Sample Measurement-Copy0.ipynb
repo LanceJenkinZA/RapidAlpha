{
 "metadata": {
  "name": "Sample Measurement-Copy0"
 },
 "nbformat": 3,
 "nbformat_minor": 0,
 "worksheets": [
  {
   "cells": [
    {
     "cell_type": "heading",
     "level": 1,
     "metadata": {},
     "source": [
      "Material Sample Absorption Coefficient Measurement"
     ]
    },
    {
     "cell_type": "raw",
     "metadata": {},
     "source": [
      "Set the variables below, and press Shift+Enter to execute the cell."
     ]
    },
    {
     "cell_type": "code",
     "collapsed": false,
     "input": [
      "sample_type = \"Reflective Sample\"\n",
      "measurement_directory = \"/Users/lance/Programming/Python/Masters/testdata/report/reflective/120927/\"\n",
      "# Use Rapid Alpha to calibrate\n",
      "gain = 1\n",
      "# Create directory if it does not exisit\n",
      "from os import makedirs\n",
      "try:\n",
      "    makedirs(measurement_directory)\n",
      "except:\n",
      "    pass"
     ],
     "language": "python",
     "metadata": {},
     "outputs": [],
     "prompt_number": 5
    },
    {
     "cell_type": "heading",
     "level": 2,
     "metadata": {},
     "source": [
      "Cepstrum Test"
     ]
    },
    {
     "cell_type": "markdown",
     "metadata": {},
     "source": [
      "The procedure to preform a test is as follows;\n",
      "\n",
      "    * First place the sample in the _cepstrum tube_ and preform one measurement.\n",
      "    * The sample is then moved, without being disturbed, to the impedance tube and preform the measurement.\n",
      "    * The sample is then moved back to the cepstrum tube, and 9 measurements are preformed.\n",
      "\n",
      "The measurement is done automatically, first run the cell below.  This will set up the test environment and run the first cepstrum measurement.  Once the sample has been moved back from the impedance tube to the cepstrum tube, run the cell below the next cell."
     ]
    },
    {
     "cell_type": "code",
     "collapsed": false,
     "input": [
      "# imports\n",
      "from BaseDelegate import BaseDelegate\n",
      "\n",
      "bd = BaseDelegate()\n",
      "bd.measurement_settings[\"gain\"] = gain\n",
      "measurement = bd.newMeasurement()\n",
      "bd.saveMeasurement(measurement, \"%s/1.db\" % (measurement_directory))"
     ],
     "language": "python",
     "metadata": {},
     "outputs": [
      {
       "output_type": "stream",
       "stream": "stdout",
       "text": [
        "Traceback (most recent call last):\n",
        "  File \"/Library/Frameworks/Python.framework/Versions/2.7/lib/python2.7/site-packages/IPython/core/ultratb.py\", line 756, in structured_traceback\n",
        "    records = _fixed_getinnerframes(etb, context, tb_offset)\n"
       ]
      },
      {
       "output_type": "stream",
       "stream": "stdout",
       "text": [
        "  File \"/Library/Frameworks/Python.framework/Versions/2.7/lib/python2.7/site-packages/IPython/core/ultratb.py\", line 242, in _fixed_getinnerframes\n",
        "    records  = fix_frame_records_filenames(inspect.getinnerframes(etb, context))\n",
        "  File \"/Library/Frameworks/Python.framework/Versions/2.7/lib/python2.7/inspect.py\", line 1041, in getinnerframes\n",
        "    framelist.append((tb.tb_frame,) + getframeinfo(tb, context))\n"
       ]
      },
      {
       "output_type": "stream",
       "stream": "stderr",
       "text": [
        "ERROR: Internal Python error in the inspect module.\n",
        "Below is the traceback from this internal error.\n",
        "\n",
        "Unfortunately, your original traceback can not be constructed.\n"
       ]
      },
      {
       "ename": "KeyboardInterrupt",
       "evalue": "",
       "output_type": "pyerr",
       "traceback": ""
      },
      {
       "output_type": "stream",
       "stream": "stdout",
       "text": [
        "  File \"/Library/Frameworks/Python.framework/Versions/2.7/lib/python2.7/inspect.py\", line 1005, in getframeinfo\n",
        "    lines, lnum = findsource(frame)\n",
        "  File \"/Library/Frameworks/Python.framework/Versions/2.7/lib/python2.7/inspect.py\", line 530, in findsource\n",
        "    module = getmodule(object, file)\n",
        "  File \"/Library/Frameworks/Python.framework/Versions/2.7/lib/python2.7/inspect.py\", line 499, in getmodule\n",
        "    f = getabsfile(module)\n",
        "  File \"/Library/Frameworks/Python.framework/Versions/2.7/lib/python2.7/inspect.py\", line 468, in getabsfile\n",
        "    _filename = getsourcefile(object) or getfile(object)\n",
        "  File \"/Library/Frameworks/Python.framework/Versions/2.7/lib/python2.7/inspect.py\", line 453, in getsourcefile\n",
        "    if os.path.exists(filename):\n",
        "  File \"/Library/Frameworks/Python.framework/Versions/2.7/lib/python2.7/genericpath.py\", line 18, in exists\n",
        "    os.stat(path)\n",
        "KeyboardInterrupt\n"
       ]
      }
     ],
     "prompt_number": 6
    },
    {
     "cell_type": "markdown",
     "metadata": {},
     "source": [
      "Now preform the measurement in the impedance tube.  The results can be entered by clicking on this link; [new measurement](https://docs.google.com/spreadsheet/ccc?key=0AqQzXhp6zX-qdE1GMXJGQVZ3a3oxMDBTWUQ4anQ1aEE&newcopy).  Export the measurement to CSV, and save it in the measurement_folder (defined above).  To export the measurement in Google Spreadsheet, press File -> Download As -> Comma Seperated Values.\n",
      "\n",
      "Once the measurement has completed, execute the cell below"
     ]
    },
    {
     "cell_type": "code",
     "collapsed": false,
     "input": [
      "from BaseDelegate import BaseDelegate\n",
      "bd = BaseDelegate()\n",
      "bd.measurement_settings[\"gain\"] = gain\n",
      "for measurement_index in range(1, 10):\n",
      "    measurement = bd.newMeasurement()\n",
      "    bd.saveMeasurement(measurement, \"%s/%d.db\" % (measurement_directory, measurement_index + 1))"
     ],
     "language": "python",
     "metadata": {},
     "outputs": []
    },
    {
     "cell_type": "heading",
     "level": 2,
     "metadata": {},
     "source": [
      "Measurement Analysis"
     ]
    },
    {
     "cell_type": "markdown",
     "metadata": {},
     "source": [
      "The following information is created from the analysis.  The first measurement is graphed as a solid black line.  The impedance tube measurements are then added to the graph as black crosses. Finally, the maximum and minimum values for all the cepstrum measurements are plotted as light grey lines.\n",
      "\n",
      "The error between the first measurement and the impedance tube is displayed, along with the standard deviation of all cepstrum measurments and the standard deviation of the error between the cepstrum measurements and the impedance tube.\n",
      "\n",
      "The results are saved to the following files:\n",
      "\n",
      "    * The graph is saved to graph.eps\n",
      "    * The statistical analysis is saved to statistics.csv\n",
      "\n",
      "The analysis can be done by executing the cell below."
     ]
    },
    {
     "cell_type": "code",
     "collapsed": false,
     "input": [
      "# imports\n",
      "from BaseDelegate import BaseDelegate\n",
      "from pylab import *\n",
      "\n",
      "# code\n",
      "bd = BaseDelegate()\n",
      "\n",
      "## Load The measurements\n",
      "\n",
      "# The impedance_measurement contains the impedance tube measurements\n",
      "impedance_measurement = genfromtxt(\"%s/impedance.csv\" % measurement_directory, \n",
      "                                    delimiter=\",\", names=True, dtype=None)\n",
      "\n",
      "# The measurement array stores all the measurements\n",
      "measurement_array = []\n",
      "alpha_array = []\n",
      "\n",
      "for measurement_index in range(1, 11):\n",
      "    measurement_file = \"%s/%s.db\" % (measurement_directory, measurement_index)\n",
      "    measurement = bd.loadAbsorptionCoefficient(measurement_file)\n",
      "    alpha_array.append(measurement.alpha.tolist())\n",
      "    \n",
      "    measurement_array.append(measurement)\n",
      "\n",
      "## Create the graph\n",
      "sample_rate = float(measurement_array[0].measurement_settings[\"sample rate\"])\n",
      "decimation_factor = float(measurement_array[0].measurement_settings[\"decimation factor\"])\n",
      "figure(num=None)\n",
      "# Frequency to bin mapping\n",
      "freq2bin = lambda freq, length: int(freq * length / (sample_rate / decimation_factor))\n",
      "N = len(measurement_array[0].alpha)\n",
      "frequency_axis = fftfreq(N, 1 / (sample_rate / decimation_factor))\n",
      "semilogx(frequency_axis, alpha_array[0])\n",
      "\n",
      "valid = impedance_measurement[\"pmin\"] > 0.1\n",
      "plot(impedance_measurement[\"frequency\"][valid], impedance_measurement[\"alpha\"][valid], \"x\", color=\"#000000\")\n",
      "plot(impedance_measurement[\"frequency\"][~valid], impedance_measurement[\"alpha\"][~valid], \"o\", color=\"#000000\")\n",
      "          \n",
      "start_bin = freq2bin(90, len(alpha_array[0]))\n",
      "end_bin = freq2bin(2100, len(alpha_array[0]))\n",
      "frequency_axis[start_bin:end_bin]\n",
      "min(alpha_array)[start_bin:end_bin]\n",
      "#fill_between(frequency_axis[start_bin:end_bin], \n",
      "#                min(alpha_array)[start_bin:end_bin], \n",
      "#                max(alpha_array)[start_bin:end_bin], \n",
      "#                facecolor=\"#eeeeee\", alpha=0.4, linewidth=0.5)\n",
      "\n",
      "# Annotate the graph\n",
      "xlabel(\"Frequency (Hz)\")\n",
      "ylabel(r\"Absorption Coefficient ($\\alpha$)\")\n",
      "title(sample_type)\n",
      "\n",
      "# Format the graph\n",
      "xlim(90, 2100)\n",
      "ylim(0.0, 1)\n",
      "axes = gca()\n",
      "axes.axes.set_xticks([100, 125, 160, 200, 250, 315, 400, 500, \n",
      "                        630, 800, 1000, 1250, 1600, 2000])\n",
      "axes.set_xticklabels([100, 125, 160, 200, 250, 315, 400, 500, \n",
      "                        630, 800, 1000, 1250, 1600, 2000], rotation=30)\n",
      "axes.xaxis.set_minor_locator(NullLocator())\n",
      "axes.yaxis.set_major_locator(MultipleLocator(0.1))\n",
      "grid(True)\n",
      "\n",
      "\n",
      "\n",
      "## Create statistics\n",
      "# Determine the errors\n",
      "error_array = []\n",
      "print \"Frequency\\tCep\\tImp.\\tDifference\\tStd Deviation\\tp max\\tp min\\tImp. Error\"\n",
      "statistics = \"Frequency,Cep,Imp.,Difference,Std Deviation,p max,p min, Imp. Error\\n\"\n",
      "std_dev = std(alpha_array)\n",
      "for index, frequency in enumerate(impedance_measurement[\"frequency\"]):\n",
      "    cep = alpha_array[0][freq2bin(frequency, N)]\n",
      "    imp = impedance_measurement[\"alpha\"][index]\n",
      "    error = impedance_measurement[\"alpha\"][index] - alpha_array[0][freq2bin(frequency, N)]\n",
      "    std_err = std([error - alpha[freq2bin(frequency, N)] for alpha in alpha_array])\n",
      "    tmp = []\n",
      "    for cep_index in range(len(alpha_array)):\n",
      "        tmp.append(alpha_array[cep_index][freq2bin(frequency, N)])\n",
      "    std_dev = std(tmp)\n",
      "    \n",
      "    # determine error in absorption coefficient\n",
      "    pmax = impedance_measurement[\"pmax\"][index]\n",
      "    pmin = impedance_measurement[\"pmin\"][index]\n",
      "    \n",
      "    err_pmax = pmax * 0.02 / 100 + 0.02\n",
      "    err_pmin = -pmin * 0.02 / 100 - 0.02\n",
      "    \n",
      "    if frequency < 1000:\n",
      "        err_pmax += 30e-6\n",
      "        err_pmin -= 30e-6\n",
      "    \n",
      "    swr_err = (pmax + err_pmax) / (pmin + err_pmin)\n",
      "    a = 1 - (swr_err - 1) ** 2 / (swr_err + 1) ** 2\n",
      "    a_err = abs(impedance_measurement[\"alpha\"][index] - a)\n",
      "    \n",
      "    errorbar(x=frequency, y=impedance_measurement[\"alpha\"][index], yerr=a_err, ecolor=\"black\", lw=1)\n",
      "    errorbar(x=frequency, y=alpha_array[0][freq2bin(frequency, N)], yerr=abs(std_dev), ecolor=\"black\", lw=1)\n",
      "    \n",
      "    print \"%s\\t\\t%.2f\\t%.2f\\t%.2f\\t%.2f\\t%.2f\\t%.2f\\t%.2f\" % (frequency, cep, imp, abs(error),\n",
      "                                                   abs(std_dev), pmax, pmin, a_err)\n",
      "    statistics += \"%s,%.2f,%.2f,%.2f,%.2f,%.2f,%.2f,%.2f\\n\" % (frequency, cep, imp, abs(error),\n",
      "                                                   abs(std_dev), pmax, pmin, a_err)\n",
      "    error_array.append(error)\n",
      "\n",
      "# Save the graph\n",
      "tight_layout()\n",
      "savefig(\"%s/alpha.eps\" % (measurement_directory))\n",
      "\n",
      "# Save the statitics\n",
      "f = open(\"%s/statistics.csv\" % (measurement_directory), \"w\")\n",
      "f.write(statistics)\n",
      "f.close()"
     ],
     "language": "python",
     "metadata": {},
     "outputs": [
      {
       "output_type": "stream",
       "stream": "stdout",
       "text": [
        "Frequency\tCep\tImp.\tDifference\tStd Deviation\tp max\tp min\tImp. Error\n",
        "100\t\t0.03\t0.03\t0.00\t0.05\t84.67\t0.65\t0.00"
       ]
      },
      {
       "output_type": "stream",
       "stream": "stdout",
       "text": [
        "\n",
        "112\t\t0.02\t0.03\t0.01\t0.04\t67.53\t0.55\t0.00\n",
        "125\t\t0.01\t0.03\t0.03\t0.03\t69.51\t0.60\t0.00\n",
        "140\t\t0.00\t0.05\t0.05\t0.03\t26.85\t0.33\t0.00\n",
        "150\t\t-0.00\t0.04\t0.04\t0.02\t27.29\t0.25\t0.00\n",
        "160\t\t0.00\t0.16\t0.16\t0.02\t22.91\t1.03\t0.00"
       ]
      },
      {
       "output_type": "stream",
       "stream": "stdout",
       "text": [
        "\n",
        "170\t\t0.01\t0.15\t0.15\t0.02\t21.17\t0.89\t0.00\n",
        "180\t\t0.01\t0.22\t0.20\t0.02\t10.54\t0.64\t0.01\n",
        "200\t\t0.03\t0.02\t0.01\t0.02\t34.21\t0.19\t0.00\n",
        "224\t\t0.06\t0.04\t0.02\t0.01\t70.77\t0.64\t0.00\n",
        "250\t\t0.09\t0.12\t0.03\t0.01\t71.71\t2.36\t0.00\n",
        "280\t\t0.12\t0.06\t0.06\t0.01\t14.85\t0.23\t0.01"
       ]
      },
      {
       "output_type": "stream",
       "stream": "stdout",
       "text": [
        "\n",
        "300\t\t0.14\t0.23\t0.09\t0.02\t15.00\t0.98\t0.00\n",
        "315\t\t0.15\t0.10\t0.05\t0.02\t15.75\t0.41\t0.00\n",
        "330\t\t0.15\t0.10\t0.05\t0.02\t22.81\t0.61\t0.00\n",
        "355\t\t0.17\t0.16\t0.01\t0.02\t48.29\t2.13\t0.00\n",
        "400\t\t0.24\t0.19\t0.04\t0.01\t18.16\t0.98\t0.00\n",
        "450\t\t0.38\t0.33\t0.06\t0.01\t6.48\t0.64\t0.01\n",
        "500\t\t0.59\t0.51\t0.08\t0.00\t45.82\t7.98\t0.00"
       ]
      },
      {
       "output_type": "stream",
       "stream": "stdout",
       "text": [
        "\n",
        "530\t\t0.69\t0.66\t0.03\t0.00\t18.44\t4.88\t0.00\n",
        "545\t\t0.73\t0.73\t0.00\t0.00\t10.41\t3.27\t0.00\n",
        "560\t\t0.76\t0.78\t0.02\t0.00\t5.65\t2.02\t0.01\n",
        "580\t\t0.77\t0.81\t0.04\t0.01\t2.70\t1.06\t0.01\n",
        "630\t\t0.71\t0.74\t0.03\t0.01\t19.03\t6.11\t0.00"
       ]
      },
      {
       "output_type": "stream",
       "stream": "stdout",
       "text": [
        "\n",
        "710\t\t0.43\t0.48\t0.05\t0.00\t4.69\t0.75\t0.01\n",
        "800\t\t0.24\t0.30\t0.06\t0.00\t39.83\t3.53\t0.00\n",
        "900\t\t0.23\t0.20\t0.03\t0.00\t5.99\t0.33\t0.01\n",
        "1000\t\t0.17\t0.18\t0.00\t0.00\t11.35\t0.56\t0.01\n",
        "1120\t\t0.18\t0.15\t0.03\t0.00\t30.50\t1.27\t0.00"
       ]
      },
      {
       "output_type": "stream",
       "stream": "stdout",
       "text": [
        "\n",
        "1250\t\t0.17\t0.17\t0.00\t0.00\t19.16\t0.91\t0.00\n",
        "1400\t\t0.19\t0.19\t0.00\t0.00\t10.22\t0.55\t0.01\n",
        "1600\t\t0.30\t0.28\t0.02\t0.00\t2.40\t0.20\t0.03\n",
        "1800\t\t0.47\t0.43\t0.05\t0.00\t1.08\t0.15\t0.05\n",
        "2000\t\t0.67\t0.65\t0.03\t0.00\t1.72\t0.44\t0.02\n"
       ]
      },
      {
       "output_type": "display_data",
       "png": "[encoded data removed]"
      }
     ],
     "prompt_number": 4
    },
    {
     "cell_type": "code",
     "collapsed": false,
     "input": [
      "winlen = (0.01 - 0.0053) * 44100.0 / 7.0\n",
      "tapperlen = 0.001 * 44100.0 / 7.0\n",
      "\n",
      "win = r_[ones(winlen - tapperlen)]\n",
      "enbw = sum(win ** 2 ) / (sum(win) ** 2)\n",
      "\n",
      "print 1.22 / ((0.01 - 0.0053))"
     ],
     "language": "python",
     "metadata": {},
     "outputs": [
      {
       "output_type": "stream",
       "stream": "stdout",
       "text": [
        "259.574468085\n"
       ]
      }
     ],
     "prompt_number": 33
    },
    {
     "cell_type": "code",
     "collapsed": false,
     "input": [
      "swr = arange(0, 10, 0.1)\n",
      "plot(swr, 4*swr / (swr ** 2 + 2 * swr + 1))\n",
      "title(\"Absorption coefficient for the sample holder\")\n",
      "xlabel(\"test\")\n",
      "ylabel(\"test\")\n",
      "tight_layout()"
     ],
     "language": "python",
     "metadata": {},
     "outputs": [
      {
       "output_type": "display_data",
       "png": "[encoded data removed]"
      }
     ]
    },
    {
     "cell_type": "code",
     "collapsed": false,
     "input": [],
     "language": "python",
     "metadata": {},
     "outputs": []
    }
   ],
   "metadata": {}
  }
 ]
}